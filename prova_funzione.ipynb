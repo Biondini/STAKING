{
 "cells": [
  {
   "cell_type": "code",
   "execution_count": null,
   "id": "92768135",
   "metadata": {},
   "outputs": [],
   "source": [
    "def saluta(nome):\n",
    "    return \"Cigfao, \" + nome + \"!\"\n",
    "\n",
    "def moltiplica(a, b):\n",
    "    c= a*b\n",
    "    return c"
   ]
  }
 ],
 "metadata": {
  "kernelspec": {
   "display_name": "Python 3 (ipykernel)",
   "language": "python",
   "name": "python3"
  },
  "language_info": {
   "codemirror_mode": {
    "name": "ipython",
    "version": 3
   },
   "file_extension": ".py",
   "mimetype": "text/x-python",
   "name": "python",
   "nbconvert_exporter": "python",
   "pygments_lexer": "ipython3",
   "version": "3.8.8"
  }
 },
 "nbformat": 4,
 "nbformat_minor": 5
}
